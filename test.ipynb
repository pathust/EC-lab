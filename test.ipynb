{
 "cells": [
  {
   "cell_type": "code",
   "execution_count": 17,
   "metadata": {},
   "outputs": [],
   "source": [
    "import random\n",
    "import numpy as np\n",
    "import json\n",
    "import os\n",
    "\n",
    "from problem import TSPProblem, KnapsackProblem\n",
    "from GA.crossover_operators import order_crossover, pmx_crossover, cycle_crossover, arithmetic_crossover, blend_crossover\n",
    "from GA.mutation_operators import swap_mutation, gaussian_mutation, uniform_mutation\n",
    "from GA.selection_operators import tournament_selection\n",
    "from experiment import Experiment, MFEAExperiment, NumpyEncoder"
   ]
  },
  {
   "cell_type": "code",
   "execution_count": 18,
   "metadata": {},
   "outputs": [],
   "source": [
    "random.seed(42)\n",
    "np.random.seed(42)\n",
    "results = {}"
   ]
  },
  {
   "cell_type": "code",
   "execution_count": 19,
   "metadata": {},
   "outputs": [
    {
     "name": "stdout",
     "output_type": "stream",
     "text": [
      "Loaded TSP problem with 51 cities from dataset/tsp/eil51.tsp\n"
     ]
    },
    {
     "name": "stderr",
     "output_type": "stream",
     "text": [
      "Running tsp experiment: 100%|██████████| 5/5 [00:11<00:00,  2.26s/it]\n"
     ]
    },
    {
     "name": "stdout",
     "output_type": "stream",
     "text": [
      "✓ Results saved to results/ga/order/swap/tournament/tsp\n"
     ]
    },
    {
     "name": "stderr",
     "output_type": "stream",
     "text": [
      "Running tsp experiment: 100%|██████████| 5/5 [00:08<00:00,  1.72s/it]\n"
     ]
    },
    {
     "name": "stdout",
     "output_type": "stream",
     "text": [
      "✓ Results saved to results/ga/pmx/swap/tournament/tsp\n"
     ]
    },
    {
     "name": "stderr",
     "output_type": "stream",
     "text": [
      "Running tsp experiment: 100%|██████████| 5/5 [00:09<00:00,  1.93s/it]"
     ]
    },
    {
     "name": "stdout",
     "output_type": "stream",
     "text": [
      "✓ Results saved to results/ga/cycle/swap/tournament/tsp\n"
     ]
    },
    {
     "name": "stderr",
     "output_type": "stream",
     "text": [
      "\n"
     ]
    }
   ],
   "source": [
    "tsp = TSPProblem(file_path=\"dataset/tsp/eil51.tsp\", encoding='permutation')\n",
    "\n",
    "crossover_ops = {\n",
    "    \"order\": order_crossover,\n",
    "    \"pmx\": pmx_crossover,\n",
    "    \"cycle\": cycle_crossover\n",
    "}\n",
    "\n",
    "task1 = {}\n",
    "for name, op in crossover_ops.items():\n",
    "    exp = Experiment(\n",
    "        problem=tsp,\n",
    "        seeds=range(5),\n",
    "        pop_size=100,\n",
    "        generations=500,\n",
    "        crossover_prob=0.9,\n",
    "        mutation_prob=0.1,\n",
    "        crossover_op=op,\n",
    "        mutation_op=swap_mutation,\n",
    "        selection_op=tournament_selection,\n",
    "        elitism=2\n",
    "    )\n",
    "    exp.run(verbose=False)\n",
    "    task1[name] = -exp.stats[\"max\"]\n",
    "results[\"task1\"] = task1"
   ]
  },
  {
   "cell_type": "code",
   "execution_count": 20,
   "metadata": {},
   "outputs": [
    {
     "name": "stdout",
     "output_type": "stream",
     "text": [
      "Loaded TSP problem with 51 cities from dataset/tsp/eil51.tsp\n"
     ]
    },
    {
     "name": "stderr",
     "output_type": "stream",
     "text": [
      "Running tsp experiment: 100%|██████████| 5/5 [00:08<00:00,  1.75s/it]\n"
     ]
    },
    {
     "name": "stdout",
     "output_type": "stream",
     "text": [
      "✓ Results saved to results/ga/arithmetic/gaussian/tournament/tsp\n"
     ]
    },
    {
     "name": "stderr",
     "output_type": "stream",
     "text": [
      "Running tsp experiment: 100%|██████████| 5/5 [00:09<00:00,  1.91s/it]"
     ]
    },
    {
     "name": "stdout",
     "output_type": "stream",
     "text": [
      "✓ Results saved to results/ga/blend/uniform/tournament/tsp\n"
     ]
    },
    {
     "name": "stderr",
     "output_type": "stream",
     "text": [
      "\n"
     ]
    }
   ],
   "source": [
    "tsp_real = TSPProblem(file_path=\"dataset/tsp/eil51.tsp\", encoding='real')\n",
    "\n",
    "real_ops = {\n",
    "    \"arithmetic\": (arithmetic_crossover, gaussian_mutation),\n",
    "    \"blx_alpha\": (blend_crossover, uniform_mutation)\n",
    "}\n",
    "\n",
    "task2 = {}\n",
    "for name, (c_op, m_op) in real_ops.items():\n",
    "    exp = Experiment(\n",
    "        problem=tsp_real,\n",
    "        seeds=range(5),\n",
    "        pop_size=100,\n",
    "        generations=500,\n",
    "        crossover_prob=0.9,\n",
    "        mutation_prob=0.1,\n",
    "        crossover_op=c_op,\n",
    "        mutation_op=m_op,\n",
    "        selection_op=tournament_selection,\n",
    "        elitism=2\n",
    "    )\n",
    "    exp.run(verbose=False)\n",
    "    task2[name] = -exp.stats[\"max\"]\n",
    "results[\"task2\"] = task2\n"
   ]
  },
  {
   "cell_type": "code",
   "execution_count": 21,
   "metadata": {},
   "outputs": [
    {
     "name": "stdout",
     "output_type": "stream",
     "text": [
      "Loaded TSP problem with 51 cities from dataset/tsp/eil51.tsp\n",
      "Loaded TSP problem with 101 cities from dataset/tsp/eil101.tsp\n"
     ]
    },
    {
     "name": "stderr",
     "output_type": "stream",
     "text": [
      "Running MFEA on order_tournament_tsp_tsp: 100%|██████████| 5/5 [00:42<00:00,  8.46s/it]\n"
     ]
    }
   ],
   "source": [
    "tsp51 = TSPProblem(file_path=\"dataset/tsp/eil51.tsp\", encoding='permutation')\n",
    "tsp101 = TSPProblem(file_path=\"dataset/tsp/eil101.tsp\", encoding='permutation')\n",
    "\n",
    "mfea_exp = MFEAExperiment(\n",
    "    problems=[tsp51, tsp101],\n",
    "    seeds=range(5),\n",
    "    pop_size=100,\n",
    "    generations=500,\n",
    "    rmp=0.3,\n",
    "    cross_crossover_op=order_crossover\n",
    ")\n",
    "mfea_exp.run(verbose=False)\n",
    "\n",
    "results[\"task3\"] = {\n",
    "    \"tsp51\": mfea_exp.stats[\"task_0\"][\"best_tour_length\"],\n",
    "    \"tsp101\": mfea_exp.stats[\"task_1\"][\"best_tour_length\"]\n",
    "}\n"
   ]
  },
  {
   "cell_type": "code",
   "execution_count": 22,
   "metadata": {},
   "outputs": [
    {
     "name": "stdout",
     "output_type": "stream",
     "text": [
      "Loaded Knapsack: 15 items, capacity=750\n"
     ]
    },
    {
     "name": "stderr",
     "output_type": "stream",
     "text": [
      "Running MFEA on arithmetic_tournament_tsp_knapsack: 100%|██████████| 5/5 [00:18<00:00,  3.70s/it]\n"
     ]
    }
   ],
   "source": [
    "knapsack = KnapsackProblem(file_prefix=\"dataset/knapsack/p07\", encoding='real')\n",
    "\n",
    "mfea_exp2 = MFEAExperiment(\n",
    "    problems=[tsp51, knapsack],\n",
    "    seeds=range(5),\n",
    "    pop_size=100,\n",
    "    generations=500,\n",
    "    rmp=0.3,\n",
    "    cross_crossover_op=arithmetic_crossover\n",
    ")\n",
    "mfea_exp2.run(verbose=False)\n",
    "\n",
    "results[\"task4\"] = {\n",
    "    \"tsp51\": mfea_exp2.stats[\"task_0\"][\"best_tour_length\"],\n",
    "    \"knapsack\": mfea_exp2.stats[\"task_1\"][\"max\"]\n",
    "}\n"
   ]
  },
  {
   "cell_type": "code",
   "execution_count": 23,
   "metadata": {},
   "outputs": [
    {
     "name": "stdout",
     "output_type": "stream",
     "text": [
      "Summary results: {'task1': {'order': np.float64(473.42066186107525), 'pmx': np.float64(615.1183795018541), 'cycle': np.float64(571.3011433873755)}, 'task2': {'arithmetic': np.float64(557.1060738340791), 'blx_alpha': np.float64(971.5536188311206)}, 'task3': {'tsp51': np.float64(511.78957449484307), 'tsp101': np.float64(973.1986273165792)}, 'task4': {'tsp51': np.float64(471.3120525815979), 'knapsack': np.int64(1458)}}\n"
     ]
    }
   ],
   "source": [
    "os.makedirs(\"results/simple\", exist_ok=True)\n",
    "with open(\"results/simple/results.json\", \"w\") as f:\n",
    "    json.dump(results, f, indent=4, cls=NumpyEncoder)\n",
    "    \n",
    "print(\"Summary results:\", results)\n"
   ]
  }
 ],
 "metadata": {
  "kernelspec": {
   "display_name": "EC_env",
   "language": "python",
   "name": "python3"
  },
  "language_info": {
   "codemirror_mode": {
    "name": "ipython",
    "version": 3
   },
   "file_extension": ".py",
   "mimetype": "text/x-python",
   "name": "python",
   "nbconvert_exporter": "python",
   "pygments_lexer": "ipython3",
   "version": "3.13.3"
  }
 },
 "nbformat": 4,
 "nbformat_minor": 2
}
