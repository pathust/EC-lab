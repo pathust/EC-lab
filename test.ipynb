{
 "cells": [
  {
   "cell_type": "code",
   "execution_count": null,
   "metadata": {},
   "outputs": [],
   "source": [
    "import random\n",
    "import numpy as np\n",
    "import json\n",
    "import os\n",
    "\n",
    "from problem import TSPProblem, KnapsackProblem\n",
    "from GA.crossover_operators import order_crossover, pmx_crossover, cycle_crossover, arithmetic_crossover, blend_crossover, sbx_crossover\n",
    "from GA.mutation_operators import swap_mutation, inversion_mutation, insertion_mutation, gaussian_mutation, uniform_mutation, polynomial_mutation\n",
    "from GA.selection_operators import tournament_selection, roulette_wheel_selection, truncation_selection\n",
    "from experiment import Experiment, MFEAExperiment, NumpyEncoder"
   ]
  },
  {
   "cell_type": "code",
   "execution_count": 30,
   "metadata": {},
   "outputs": [],
   "source": [
    "random.seed(42)\n",
    "np.random.seed(42)\n",
    "results = {}\n",
    "seeds = range(30)"
   ]
  },
  {
   "cell_type": "code",
   "execution_count": 24,
   "metadata": {},
   "outputs": [
    {
     "name": "stdout",
     "output_type": "stream",
     "text": [
      "Loaded TSP problem with 51 cities from dataset/tsp/eil51.tsp\n"
     ]
    },
    {
     "name": "stderr",
     "output_type": "stream",
     "text": [
      "Running tsp experiment:   0%|          | 0/30 [00:01<?, ?it/s]\n"
     ]
    },
    {
     "ename": "KeyboardInterrupt",
     "evalue": "",
     "output_type": "error",
     "traceback": [
      "\u001b[31m---------------------------------------------------------------------------\u001b[39m",
      "\u001b[31mKeyboardInterrupt\u001b[39m                         Traceback (most recent call last)",
      "\u001b[36mCell\u001b[39m\u001b[36m \u001b[39m\u001b[32mIn[24]\u001b[39m\u001b[32m, line 37\u001b[39m\n\u001b[32m     24\u001b[39m         \u001b[38;5;28;01mfor\u001b[39;00m selection_name, selection_op \u001b[38;5;129;01min\u001b[39;00m selection_ops.items():\n\u001b[32m     25\u001b[39m             exp = Experiment(\n\u001b[32m     26\u001b[39m                 problem=tsp,\n\u001b[32m     27\u001b[39m                 seeds=seeds,\n\u001b[32m   (...)\u001b[39m\u001b[32m     35\u001b[39m                 elitism=\u001b[32m2\u001b[39m\n\u001b[32m     36\u001b[39m             )\n\u001b[32m---> \u001b[39m\u001b[32m37\u001b[39m             \u001b[43mexp\u001b[49m\u001b[43m.\u001b[49m\u001b[43mrun\u001b[49m\u001b[43m(\u001b[49m\u001b[43mverbose\u001b[49m\u001b[43m=\u001b[49m\u001b[38;5;28;43;01mFalse\u001b[39;49;00m\u001b[43m)\u001b[49m\n\u001b[32m     38\u001b[39m             task1[\u001b[33mf\u001b[39m\u001b[33m\"\u001b[39m\u001b[38;5;132;01m{\u001b[39;00mcrossover_name\u001b[38;5;132;01m}\u001b[39;00m\u001b[33m_\u001b[39m\u001b[38;5;132;01m{\u001b[39;00mmutation_name\u001b[38;5;132;01m}\u001b[39;00m\u001b[33m_\u001b[39m\u001b[38;5;132;01m{\u001b[39;00mselection_name\u001b[38;5;132;01m}\u001b[39;00m\u001b[33m\"\u001b[39m] = -exp.stats[\u001b[33m\"\u001b[39m\u001b[33mmax\u001b[39m\u001b[33m\"\u001b[39m]\n\u001b[32m     39\u001b[39m results[\u001b[33m\"\u001b[39m\u001b[33mtask1\u001b[39m\u001b[33m\"\u001b[39m] = task1\n",
      "\u001b[36mFile \u001b[39m\u001b[32m~/Documents/EC-lab/experiment.py:67\u001b[39m, in \u001b[36mExperiment.run\u001b[39m\u001b[34m(self, verbose)\u001b[39m\n\u001b[32m     60\u001b[39m algorithm = GeneticAlgorithm(\n\u001b[32m     61\u001b[39m     problem=\u001b[38;5;28mself\u001b[39m.problem, \n\u001b[32m     62\u001b[39m     seed=seed, \n\u001b[32m     63\u001b[39m     **\u001b[38;5;28mself\u001b[39m.algo_kwargs\n\u001b[32m     64\u001b[39m )\n\u001b[32m     66\u001b[39m algorithm.initialize()\n\u001b[32m---> \u001b[39m\u001b[32m67\u001b[39m \u001b[43malgorithm\u001b[49m\u001b[43m.\u001b[49m\u001b[43mrun\u001b[49m\u001b[43m(\u001b[49m\u001b[43mverbose\u001b[49m\u001b[43m=\u001b[49m\u001b[38;5;28;43;01mFalse\u001b[39;49;00m\u001b[43m)\u001b[49m\n\u001b[32m     69\u001b[39m best = algorithm.population.get_best()\n\u001b[32m     70\u001b[39m \u001b[38;5;28mself\u001b[39m.results.append({\n\u001b[32m     71\u001b[39m     \u001b[33m'\u001b[39m\u001b[33mseed\u001b[39m\u001b[33m'\u001b[39m: seed,\n\u001b[32m     72\u001b[39m     \u001b[33m'\u001b[39m\u001b[33mbest_fitness\u001b[39m\u001b[33m'\u001b[39m: best.fitness,\n\u001b[32m     73\u001b[39m     \u001b[33m'\u001b[39m\u001b[33mbest_genome\u001b[39m\u001b[33m'\u001b[39m: best.genome,\n\u001b[32m     74\u001b[39m     \u001b[33m'\u001b[39m\u001b[33mhistory\u001b[39m\u001b[33m'\u001b[39m: algorithm.history\n\u001b[32m     75\u001b[39m })\n",
      "\u001b[36mFile \u001b[39m\u001b[32m~/Documents/EC-lab/algorithm.py:82\u001b[39m, in \u001b[36mGeneticAlgorithm.run\u001b[39m\u001b[34m(self, verbose)\u001b[39m\n\u001b[32m     79\u001b[39m \u001b[38;5;28mself\u001b[39m.mutation(child1, **\u001b[38;5;28mself\u001b[39m.mutation_params)\n\u001b[32m     80\u001b[39m \u001b[38;5;28mself\u001b[39m.mutation(child2, **\u001b[38;5;28mself\u001b[39m.mutation_params)\n\u001b[32m---> \u001b[39m\u001b[32m82\u001b[39m \u001b[43mchild1\u001b[49m\u001b[43m.\u001b[49m\u001b[43mevaluate\u001b[49m\u001b[43m(\u001b[49m\u001b[38;5;28;43mself\u001b[39;49m\u001b[43m.\u001b[49m\u001b[43mproblem\u001b[49m\u001b[43m)\u001b[49m\n\u001b[32m     83\u001b[39m child2.evaluate(\u001b[38;5;28mself\u001b[39m.problem)\n\u001b[32m     85\u001b[39m new_individuals.extend([child1, child2])\n",
      "\u001b[36mFile \u001b[39m\u001b[32m~/Documents/EC-lab/individual.py:16\u001b[39m, in \u001b[36mIndividual.evaluate\u001b[39m\u001b[34m(self, problem, task_id)\u001b[39m\n\u001b[32m     14\u001b[39m     \u001b[38;5;28;01mreturn\u001b[39;00m \u001b[38;5;28mself\u001b[39m.fitness[task_id]\n\u001b[32m     15\u001b[39m \u001b[38;5;28;01melse\u001b[39;00m:\n\u001b[32m---> \u001b[39m\u001b[32m16\u001b[39m     \u001b[38;5;28mself\u001b[39m.fitness = \u001b[43mproblem\u001b[49m\u001b[43m.\u001b[49m\u001b[43mevaluate\u001b[49m\u001b[43m(\u001b[49m\u001b[38;5;28;43mself\u001b[39;49m\u001b[43m)\u001b[49m\n\u001b[32m     17\u001b[39m     \u001b[38;5;28;01mreturn\u001b[39;00m \u001b[38;5;28mself\u001b[39m.fitness\n",
      "\u001b[36mFile \u001b[39m\u001b[32m~/Documents/EC-lab/problem.py:94\u001b[39m, in \u001b[36mTSPProblem.evaluate\u001b[39m\u001b[34m(self, individual)\u001b[39m\n\u001b[32m     92\u001b[39m dist = \u001b[32m0\u001b[39m\n\u001b[32m     93\u001b[39m \u001b[38;5;28;01mfor\u001b[39;00m i \u001b[38;5;129;01min\u001b[39;00m \u001b[38;5;28mrange\u001b[39m(\u001b[38;5;28mlen\u001b[39m(path) - \u001b[32m1\u001b[39m):\n\u001b[32m---> \u001b[39m\u001b[32m94\u001b[39m     dist += \u001b[38;5;28mself\u001b[39m.distance_matrix[path[i]][path[i + \u001b[32m1\u001b[39m]]\n\u001b[32m     95\u001b[39m dist += \u001b[38;5;28mself\u001b[39m.distance_matrix[path[-\u001b[32m1\u001b[39m]][path[\u001b[32m0\u001b[39m]]\n\u001b[32m     96\u001b[39m \u001b[38;5;28;01mreturn\u001b[39;00m -dist\n",
      "\u001b[31mKeyboardInterrupt\u001b[39m: "
     ]
    }
   ],
   "source": [
    "tsp = TSPProblem(file_path=\"dataset/tsp/eil51.tsp\", encoding='permutation')\n",
    "\n",
    "crossover_ops = {\n",
    "    \"order\": order_crossover,\n",
    "    \"pmx\": pmx_crossover,\n",
    "    \"cycle\": cycle_crossover,\n",
    "}\n",
    "\n",
    "mutation_ops = {\n",
    "    \"swap\": swap_mutation,\n",
    "    \"inversion\": inversion_mutation,\n",
    "    \"insertion\": insertion_mutation\n",
    "}\n",
    "\n",
    "selection_ops = {\n",
    "    \"tournament\": tournament_selection,\n",
    "    \"roulette\": roulette_wheel_selection,\n",
    "    \"truncation\": truncation_selection\n",
    "}\n",
    "\n",
    "task1 = {}\n",
    "for crossover_name, crossover_op in crossover_ops.items():\n",
    "    for mutation_name, mutation_op in mutation_ops.items():\n",
    "        for selection_name, selection_op in selection_ops.items():\n",
    "            exp = Experiment(\n",
    "                problem=tsp,\n",
    "                seeds=seeds,\n",
    "                pop_size=100,\n",
    "                generations=500,\n",
    "                crossover_prob=0.9,\n",
    "                mutation_prob=0.1,\n",
    "                crossover_op=crossover_op,\n",
    "                mutation_op=mutation_op,\n",
    "                selection_op=selection_op,\n",
    "                elitism=2\n",
    "            )\n",
    "            exp.run(verbose=False)\n",
    "            task1[f\"{crossover_name}_{mutation_name}_{selection_name}\"] = -exp.stats[\"max\"]\n",
    "results[\"task1\"] = task1\n",
    "task1"
   ]
  },
  {
   "cell_type": "code",
   "execution_count": 32,
   "metadata": {},
   "outputs": [
    {
     "name": "stdout",
     "output_type": "stream",
     "text": [
      "Loaded TSP problem with 51 cities from dataset/tsp/eil51.tsp\n"
     ]
    },
    {
     "name": "stderr",
     "output_type": "stream",
     "text": [
      "Running tsp experiment: 100%|██████████| 5/5 [00:08<00:00,  1.74s/it]\n"
     ]
    },
    {
     "name": "stdout",
     "output_type": "stream",
     "text": [
      "✓ Results saved to results/ga/arithmetic/gaussian/tournament/tsp\n",
      "arithmetic_gaussian_tournament: 591.4651356907568\n"
     ]
    },
    {
     "name": "stderr",
     "output_type": "stream",
     "text": [
      "Running tsp experiment: 100%|██████████| 5/5 [00:21<00:00,  4.36s/it]\n"
     ]
    },
    {
     "name": "stdout",
     "output_type": "stream",
     "text": [
      "✓ Results saved to results/ga/arithmetic/gaussian/truncation/tsp\n",
      "arithmetic_gaussian_truncation: 601.459936766761\n"
     ]
    },
    {
     "name": "stderr",
     "output_type": "stream",
     "text": [
      "Running tsp experiment: 100%|██████████| 5/5 [00:09<00:00,  1.84s/it]\n"
     ]
    },
    {
     "name": "stdout",
     "output_type": "stream",
     "text": [
      "✓ Results saved to results/ga/arithmetic/polynomial/tournament/tsp\n",
      "arithmetic_polynomial_tournament: 631.3479547459739\n"
     ]
    },
    {
     "name": "stderr",
     "output_type": "stream",
     "text": [
      "Running tsp experiment: 100%|██████████| 5/5 [00:10<00:00,  2.13s/it]\n"
     ]
    },
    {
     "name": "stdout",
     "output_type": "stream",
     "text": [
      "✓ Results saved to results/ga/arithmetic/polynomial/truncation/tsp\n",
      "arithmetic_polynomial_truncation: 610.1503546744484\n"
     ]
    },
    {
     "name": "stderr",
     "output_type": "stream",
     "text": [
      "Running tsp experiment: 100%|██████████| 5/5 [00:09<00:00,  1.97s/it]\n"
     ]
    },
    {
     "name": "stdout",
     "output_type": "stream",
     "text": [
      "✓ Results saved to results/ga/blend/gaussian/tournament/tsp\n",
      "blend_gaussian_tournament: 584.5829313960888\n"
     ]
    },
    {
     "name": "stderr",
     "output_type": "stream",
     "text": [
      "Running tsp experiment: 100%|██████████| 5/5 [00:12<00:00,  2.42s/it]\n"
     ]
    },
    {
     "name": "stdout",
     "output_type": "stream",
     "text": [
      "✓ Results saved to results/ga/blend/gaussian/truncation/tsp\n",
      "blend_gaussian_truncation: 635.4403788296246\n"
     ]
    },
    {
     "name": "stderr",
     "output_type": "stream",
     "text": [
      "Running tsp experiment: 100%|██████████| 5/5 [00:09<00:00,  1.82s/it]\n"
     ]
    },
    {
     "name": "stdout",
     "output_type": "stream",
     "text": [
      "✓ Results saved to results/ga/blend/uniform/tournament/tsp\n",
      "blend_uniform_tournament: 918.5611747486735\n"
     ]
    },
    {
     "name": "stderr",
     "output_type": "stream",
     "text": [
      "Running tsp experiment: 100%|██████████| 5/5 [00:12<00:00,  2.40s/it]\n"
     ]
    },
    {
     "name": "stdout",
     "output_type": "stream",
     "text": [
      "✓ Results saved to results/ga/blend/uniform/truncation/tsp\n",
      "blend_uniform_truncation: 970.9248868642643\n"
     ]
    },
    {
     "name": "stderr",
     "output_type": "stream",
     "text": [
      "Running tsp experiment: 100%|██████████| 5/5 [00:10<00:00,  2.00s/it]\n"
     ]
    },
    {
     "name": "stdout",
     "output_type": "stream",
     "text": [
      "✓ Results saved to results/ga/blend/polynomial/tournament/tsp\n",
      "blend_polynomial_tournament: 670.5495254805362\n"
     ]
    },
    {
     "name": "stderr",
     "output_type": "stream",
     "text": [
      "Running tsp experiment: 100%|██████████| 5/5 [00:12<00:00,  2.59s/it]\n"
     ]
    },
    {
     "name": "stdout",
     "output_type": "stream",
     "text": [
      "✓ Results saved to results/ga/blend/polynomial/truncation/tsp\n",
      "blend_polynomial_truncation: 585.5478343017356\n"
     ]
    },
    {
     "name": "stderr",
     "output_type": "stream",
     "text": [
      "Running tsp experiment: 100%|██████████| 5/5 [00:10<00:00,  2.12s/it]\n"
     ]
    },
    {
     "name": "stdout",
     "output_type": "stream",
     "text": [
      "✓ Results saved to results/ga/sbx/gaussian/tournament/tsp\n",
      "sbx_gaussian_tournament: 742.7482144337768\n"
     ]
    },
    {
     "name": "stderr",
     "output_type": "stream",
     "text": [
      "Running tsp experiment: 100%|██████████| 5/5 [00:13<00:00,  2.62s/it]\n"
     ]
    },
    {
     "name": "stdout",
     "output_type": "stream",
     "text": [
      "✓ Results saved to results/ga/sbx/gaussian/truncation/tsp\n",
      "sbx_gaussian_truncation: 736.9664757510564\n"
     ]
    },
    {
     "name": "stderr",
     "output_type": "stream",
     "text": [
      "Running tsp experiment: 100%|██████████| 5/5 [00:10<00:00,  2.09s/it]\n"
     ]
    },
    {
     "name": "stdout",
     "output_type": "stream",
     "text": [
      "✓ Results saved to results/ga/sbx/uniform/tournament/tsp\n",
      "sbx_uniform_tournament: 914.3577223264239\n"
     ]
    },
    {
     "name": "stderr",
     "output_type": "stream",
     "text": [
      "Running tsp experiment: 100%|██████████| 5/5 [00:13<00:00,  2.67s/it]\n"
     ]
    },
    {
     "name": "stdout",
     "output_type": "stream",
     "text": [
      "✓ Results saved to results/ga/sbx/uniform/truncation/tsp\n",
      "sbx_uniform_truncation: 968.2228975873712\n"
     ]
    },
    {
     "name": "stderr",
     "output_type": "stream",
     "text": [
      "Running tsp experiment: 100%|██████████| 5/5 [00:10<00:00,  2.12s/it]\n"
     ]
    },
    {
     "name": "stdout",
     "output_type": "stream",
     "text": [
      "✓ Results saved to results/ga/sbx/polynomial/tournament/tsp\n",
      "sbx_polynomial_tournament: 747.1163183587287\n"
     ]
    },
    {
     "name": "stderr",
     "output_type": "stream",
     "text": [
      "Running tsp experiment: 100%|██████████| 5/5 [00:12<00:00,  2.46s/it]"
     ]
    },
    {
     "name": "stdout",
     "output_type": "stream",
     "text": [
      "✓ Results saved to results/ga/sbx/polynomial/truncation/tsp\n",
      "sbx_polynomial_truncation: 800.2532116904597\n"
     ]
    },
    {
     "name": "stderr",
     "output_type": "stream",
     "text": [
      "\n"
     ]
    },
    {
     "data": {
      "text/plain": [
       "{'arithmetic_gaussian_tournament': np.float64(591.4651356907568),\n",
       " 'arithmetic_gaussian_truncation': np.float64(601.459936766761),\n",
       " 'arithmetic_polynomial_tournament': np.float64(631.3479547459739),\n",
       " 'arithmetic_polynomial_truncation': np.float64(610.1503546744484),\n",
       " 'blend_gaussian_tournament': np.float64(584.5829313960888),\n",
       " 'blend_gaussian_truncation': np.float64(635.4403788296246),\n",
       " 'blend_uniform_tournament': np.float64(918.5611747486735),\n",
       " 'blend_uniform_truncation': np.float64(970.9248868642643),\n",
       " 'blend_polynomial_tournament': np.float64(670.5495254805362),\n",
       " 'blend_polynomial_truncation': np.float64(585.5478343017356),\n",
       " 'sbx_gaussian_tournament': np.float64(742.7482144337768),\n",
       " 'sbx_gaussian_truncation': np.float64(736.9664757510564),\n",
       " 'sbx_uniform_tournament': np.float64(914.3577223264239),\n",
       " 'sbx_uniform_truncation': np.float64(968.2228975873712),\n",
       " 'sbx_polynomial_tournament': np.float64(747.1163183587287),\n",
       " 'sbx_polynomial_truncation': np.float64(800.2532116904597)}"
      ]
     },
     "execution_count": 32,
     "metadata": {},
     "output_type": "execute_result"
    }
   ],
   "source": [
    "tsp_real = TSPProblem(file_path=\"dataset/tsp/eil51.tsp\", encoding='real')\n",
    "\n",
    "crossover_ops = {\n",
    "    \"arithmetic\": arithmetic_crossover,\n",
    "    \"blend\": blend_crossover,\n",
    "    \"sbx\": sbx_crossover\n",
    "}\n",
    "\n",
    "mutation_ops = {\n",
    "    \"gaussian\": gaussian_mutation,\n",
    "    \"uniform\": uniform_mutation,\n",
    "    \"polynomial\": polynomial_mutation\n",
    "}\n",
    "\n",
    "selection_ops = {\n",
    "    \"tournament\": tournament_selection,\n",
    "    \"truncation\": truncation_selection\n",
    "}\n",
    "\n",
    "not_match = [\"arithmetic_uniform_tournament\", \"arithmetic_uniform_truncation\"]\n",
    "\n",
    "task2 = {}\n",
    "for crossover_name, crossover_op in crossover_ops.items():\n",
    "    for mutation_name, mutation_op in mutation_ops.items():\n",
    "        for selection_name, selection_op in selection_ops.items():\n",
    "            if f\"{crossover_name}_{mutation_name}_{selection_name}\" in not_match:\n",
    "                continue\n",
    "            exp = Experiment(\n",
    "                problem=tsp_real,\n",
    "                seeds=range(5),\n",
    "                pop_size=100,\n",
    "                generations=500,\n",
    "                crossover_prob=0.9,\n",
    "                mutation_prob=0.1,\n",
    "                crossover_op=crossover_op,\n",
    "                mutation_op=mutation_op,\n",
    "                selection_op=selection_op,\n",
    "                elitism=3\n",
    "            )\n",
    "            exp.run(verbose=False)\n",
    "            task2[f\"{crossover_name}_{mutation_name}_{selection_name}\"] = -exp.stats[\"max\"]\n",
    "            print(f\"{crossover_name}_{mutation_name}_{selection_name}: {-exp.stats['max']}\")\n",
    "results[\"task2\"] = task2\n",
    "task2"
   ]
  },
  {
   "cell_type": "code",
   "execution_count": null,
   "metadata": {},
   "outputs": [
    {
     "name": "stdout",
     "output_type": "stream",
     "text": [
      "Loaded TSP problem with 51 cities from dataset/tsp/eil51.tsp\n",
      "Loaded TSP problem with 101 cities from dataset/tsp/eil101.tsp\n"
     ]
    },
    {
     "name": "stderr",
     "output_type": "stream",
     "text": [
      "Running MFEA on order_tournament_tsp_tsp: 100%|██████████| 30/30 [04:13<00:00,  8.45s/it]\n"
     ]
    },
    {
     "data": {
      "text/plain": [
       "{'task_0': {'mean': np.float64(-632.8180906523943),\n",
       "  'std': np.float64(111.076266576941),\n",
       "  'min': np.float64(-912.8997636490969),\n",
       "  'max': np.float64(-482.15805138685903),\n",
       "  'median': np.float64(-603.0773978547977),\n",
       "  'best_tour_length': np.float64(482.15805138685903),\n",
       "  'mean_tour_length': np.float64(632.8180906523943)},\n",
       " 'task_1': {'mean': np.float64(-1086.108338987032),\n",
       "  'std': np.float64(71.20454098866051),\n",
       "  'min': np.float64(-1270.8937502371793),\n",
       "  'max': np.float64(-952.7089389557199),\n",
       "  'median': np.float64(-1080.9039494802712),\n",
       "  'best_tour_length': np.float64(952.7089389557199),\n",
       "  'mean_tour_length': np.float64(1086.108338987032)}}"
      ]
     },
     "execution_count": 18,
     "metadata": {},
     "output_type": "execute_result"
    }
   ],
   "source": [
    "tsp51 = TSPProblem(file_path=\"dataset/tsp/eil51.tsp\", encoding='permutation')\n",
    "tsp101 = TSPProblem(file_path=\"dataset/tsp/eil101.tsp\", encoding='permutation')\n",
    "\n",
    "mfea_exp = MFEAExperiment(\n",
    "    problems=[tsp51, tsp101],\n",
    "    seeds=seeds,\n",
    "    pop_size=100,\n",
    "    generations=500,\n",
    "    rmp=0.3,\n",
    "    cross_crossover_op=order_crossover\n",
    ")\n",
    "mfea_exp.run(verbose=False)\n",
    "\n",
    "results[\"task3\"] = {\n",
    "    \"tsp51\": mfea_exp.stats[\"task_0\"][\"best_tour_length\"],\n",
    "    \"tsp101\": mfea_exp.stats[\"task_1\"][\"best_tour_length\"]\n",
    "}\n",
    "mfea_exp.stats"
   ]
  },
  {
   "cell_type": "code",
   "execution_count": null,
   "metadata": {},
   "outputs": [
    {
     "name": "stdout",
     "output_type": "stream",
     "text": [
      "Loaded Knapsack: 15 items, capacity=750\n"
     ]
    },
    {
     "name": "stderr",
     "output_type": "stream",
     "text": [
      "Running MFEA on arithmetic_tournament_tsp_knapsack: 100%|██████████| 30/30 [01:51<00:00,  3.73s/it]\n"
     ]
    },
    {
     "data": {
      "text/plain": [
       "{'task_0': {'mean': np.float64(-536.8214916529745),\n",
       "  'std': np.float64(31.20547015703557),\n",
       "  'min': np.float64(-602.5267964950633),\n",
       "  'max': np.float64(-471.3120525815979),\n",
       "  'median': np.float64(-527.4790413014534),\n",
       "  'best_tour_length': np.float64(471.3120525815979),\n",
       "  'mean_tour_length': np.float64(536.8214916529745)},\n",
       " 'task_1': {'mean': np.float64(1457.1666666666667),\n",
       "  'std': np.float64(1.8089284734953512),\n",
       "  'min': np.int64(1451),\n",
       "  'max': np.int64(1458),\n",
       "  'median': np.float64(1458.0)}}"
      ]
     },
     "execution_count": 19,
     "metadata": {},
     "output_type": "execute_result"
    }
   ],
   "source": [
    "knapsack = KnapsackProblem(file_prefix=\"dataset/knapsack/p07\", encoding='real')\n",
    "\n",
    "mfea_exp2 = MFEAExperiment(\n",
    "    problems=[tsp51, knapsack],\n",
    "    seeds=seeds,\n",
    "    pop_size=100,\n",
    "    generations=500,\n",
    "    rmp=0.3,\n",
    "    cross_crossover_op=arithmetic_crossover\n",
    ")\n",
    "mfea_exp2.run(verbose=False)\n",
    "\n",
    "results[\"task4\"] = {\n",
    "    \"tsp51\": mfea_exp2.stats[\"task_0\"][\"best_tour_length\"],\n",
    "    \"knapsack\": mfea_exp2.stats[\"task_1\"][\"max\"]\n",
    "}\n",
    "mfea_exp2.stats"
   ]
  },
  {
   "cell_type": "code",
   "execution_count": null,
   "metadata": {},
   "outputs": [],
   "source": [
    "os.makedirs(\"results/simple\", exist_ok=True)\n",
    "with open(\"results/simple/results.json\", \"w\") as f:\n",
    "    json.dump(results, f, indent=4, cls=NumpyEncoder)"
   ]
  }
 ],
 "metadata": {
  "kernelspec": {
   "display_name": "EC_env",
   "language": "python",
   "name": "python3"
  },
  "language_info": {
   "codemirror_mode": {
    "name": "ipython",
    "version": 3
   },
   "file_extension": ".py",
   "mimetype": "text/x-python",
   "name": "python",
   "nbconvert_exporter": "python",
   "pygments_lexer": "ipython3",
   "version": "3.13.3"
  }
 },
 "nbformat": 4,
 "nbformat_minor": 2
}
